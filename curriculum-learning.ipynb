{
 "cells": [
  {
   "cell_type": "code",
   "execution_count": 242,
   "metadata": {},
   "outputs": [],
   "source": [
    "import cv2\n",
    "import numpy as np\n",
    "import matplotlib.pyplot as plt\n",
    "import torch\n",
    "from torch import tensor, nn, optim\n",
    "from torch.utils.data import Dataset, DataLoader\n",
    "from sklearn.model_selection import train_test_split\n",
    "from tqdm import tqdm\n",
    "torch.manual_seed(0)\n",
    "\n",
    "# labels for multi-class classification task\n",
    "CIRCLE = 0\n",
    "EQ_TRIANGLE = 1\n",
    "SQUARE = 2\n",
    "ELLIPSE = 3\n",
    "RECTANGLE = 4\n",
    "NON_EQ_TRIANGLE = 5"
   ]
  },
  {
   "cell_type": "code",
   "execution_count": 210,
   "metadata": {},
   "outputs": [],
   "source": [
    "def shape_label(shape_type):\n",
    "    \"\"\"\n",
    "    \"\"\"    \n",
    "    if shape_type == 'circle':\n",
    "        shape_type = CIRCLE\n",
    "    elif shape_type == 'ellipse':\n",
    "        shape_type = ELLIPSE\n",
    "    elif shape_type == 'square':\n",
    "        shape_type = SQUARE\n",
    "    elif shape_type == 'rectangle':\n",
    "        shape_type = RECTANGLE\n",
    "    elif shape_type == 'eq_triangle':\n",
    "        shape_type = EQ_TRIANGLE\n",
    "    else:\n",
    "        shape_type = NON_EQ_TRIANGLE\n",
    "    \n",
    "    return shape_type\n",
    "\n",
    "def generate_eq_triangle(image_size):\n",
    "\n",
    "    triangle_height = np.random.randint(image_size // 4, image_size // 2)\n",
    "    x1 = np.random.randint(0, image_size - triangle_height)\n",
    "    y1 = np.random.randint(0, image_size - triangle_height)\n",
    "    x2 = x1 + triangle_height\n",
    "    y2 = y1\n",
    "    x3 = x1 + (triangle_height // 2)\n",
    "    y3 = y1 + triangle_height\n",
    "    pts = np.array([[x1, y1], [x2, y2], [x3, y3]], np.int32)\n",
    "    return pts\n",
    "    \n",
    "\n",
    "def generate_non_eq_triangle(image_size):\n",
    "    side_a = np.random.randint(image_size // 4, image_size // 2)\n",
    "    side_b = np.random.randint(image_size // 4, image_size // 2)\n",
    "    side_c = np.random.randint(image_size // 4, image_size // 2)\n",
    "\n",
    "    while not (side_a + side_b > side_c and side_b + side_c > side_a and side_a + side_c > side_b):\n",
    "        side_a = np.random.randint(image_size // 4, image_size // 2)\n",
    "        side_b = np.random.randint(image_size // 4, image_size // 2)\n",
    "        side_c = np.random.randint(image_size // 4, image_size // 2)\n",
    "\n",
    "    while side_a == side_b or side_b == side_c or side_a == side_c:\n",
    "        side_a = np.random.randint(image_size // 4, image_size // 2)\n",
    "        side_b = np.random.randint(image_size // 4, image_size // 2)\n",
    "        side_c = np.random.randint(image_size // 4, image_size // 2)\n",
    "\n",
    "    x1 = np.random.randint(0, image_size - side_a - 1)\n",
    "    y1 = np.random.randint(0, image_size - side_b - 1)\n",
    "    x2 = x1 + side_a\n",
    "    y2 = y1\n",
    "    x3 = np.random.randint(x1 + side_b, x1 + side_a + side_c)\n",
    "    y3 = y1 + side_b\n",
    "\n",
    "    pts = np.array([[x1, y1], [x2, y2], [x3, y3]], np.int32)\n",
    "\n",
    "    return pts\n",
    "\n",
    "\n",
    "def generate_shape(image_size, complex=False):\n",
    "\n",
    "    # add more complicated shapes for complex dataset\n",
    "    shape_type = np.random.choice(\n",
    "        ['rectangle', 'ellipse', 'non_eq_triangle']) if complex else np.random.choice(['square', 'circle', 'eq_triangle'])\n",
    "    image = np.zeros((image_size, image_size), dtype=np.uint8)\n",
    "\n",
    "    if shape_type == 'square':\n",
    "        side_length = np.random.randint(image_size // 4, image_size // 2)\n",
    "        x = np.random.randint(0, image_size - side_length)\n",
    "        y = np.random.randint(0, image_size - side_length)\n",
    "        image[y:y+side_length, x:x+side_length] = 255\n",
    "\n",
    "    elif shape_type == 'circle':\n",
    "        radius = np.random.randint(image_size // 8, image_size // 4)\n",
    "        center_x = np.random.randint(radius, image_size - radius)\n",
    "        center_y = np.random.randint(radius, image_size - radius)\n",
    "        cv2.circle(image, (center_x, center_y), radius, 255, -1)\n",
    "\n",
    "    elif shape_type == 'rectangle':\n",
    "        width = np.random.randint(image_size // 4, image_size // 2)\n",
    "        height = np.random.randint(image_size // 4, image_size // 2)\n",
    "        x = np.random.randint(0, image_size - width)\n",
    "        y = np.random.randint(0, image_size - height)\n",
    "        image[y:y+height, x:x+width] = 255\n",
    "\n",
    "    elif shape_type == 'ellipse':\n",
    "        major_axis = np.random.randint(image_size // 4, image_size // 2)\n",
    "        minor_axis = np.random.randint(image_size // 4, image_size // 2)\n",
    "        center_x = np.random.randint(major_axis, image_size - major_axis)\n",
    "        center_y = np.random.randint(minor_axis, image_size - minor_axis)\n",
    "        cv2.ellipse(image, (center_x, center_y),\n",
    "                    (major_axis, minor_axis), 0, 0, 360, 255, -1)\n",
    "\n",
    "    elif shape_type == 'eq_triangle':\n",
    "        pts = generate_eq_triangle(image_size)\n",
    "        cv2.fillPoly(image, [pts], 255)\n",
    "\n",
    "    elif shape_type == 'non_eq_triangle':\n",
    "        pts = generate_non_eq_triangle(image_size)\n",
    "        cv2.fillPoly(image, [pts], 255)\n",
    "\n",
    "    return image.astype(np.float32), shape_type"
   ]
  },
  {
   "cell_type": "code",
   "execution_count": 211,
   "metadata": {},
   "outputs": [],
   "source": [
    "def generate_shape_dataset(num_examples, image_size, complex=False):\n",
    "\n",
    "    dataset, labels = [], []\n",
    "    for _ in range(num_examples):\n",
    "        shape_image, shape_type = generate_shape(image_size, complex=complex)\n",
    "        shape_type = shape_label(shape_type)\n",
    "        dataset.append(shape_image)\n",
    "        labels.append(shape_type)\n",
    "\n",
    "    return tensor(dataset, dtype=torch.float32), tensor(labels, dtype=torch.long)\n",
    "\n",
    "dataset_size = 5000\n",
    "image_size = 32\n",
    "\n",
    "dataset_basic, labels_basic = generate_shape_dataset(\n",
    "    num_examples=dataset_size, image_size=image_size, complex=False)\n",
    "dataset_complex, labels_complex = generate_shape_dataset(\n",
    "    num_examples=dataset_size, image_size=image_size, complex=True)\n",
    "\n",
    "dataset_combined = torch.cat((dataset_basic, dataset_complex), dim=0)\n",
    "labels_combined = torch.cat((labels_basic, labels_complex), dim=0)"
   ]
  },
  {
   "cell_type": "code",
   "execution_count": 212,
   "metadata": {},
   "outputs": [
    {
     "data": {
      "image/png": "[encoded data removed]",
      "text/plain": [
       "<Figure size 1500x600 with 5 Axes>"
      ]
     },
     "metadata": {},
     "output_type": "display_data"
    }
   ],
   "source": [
    "# visualize a few examples\n",
    "fig, axes = plt.subplots(1, 5, figsize=(15, 6))\n",
    "for i in range(5):\n",
    "\n",
    "    axes[i].imshow(dataset_basic[i], cmap='gray')\n",
    "    axes[i].axis('off')\n",
    "\n",
    "plt.suptitle('Basic Images', y=0.75, fontsize=14)\n",
    "\n",
    "plt.tight_layout()\n",
    "plt.show()"
   ]
  },
  {
   "cell_type": "code",
   "execution_count": 213,
   "metadata": {},
   "outputs": [
    {
     "data": {
      "image/png": "[encoded data removed]",
      "text/plain": [
       "<Figure size 1500x600 with 5 Axes>"
      ]
     },
     "metadata": {},
     "output_type": "display_data"
    }
   ],
   "source": [
    "fig, axes = plt.subplots(1, 5, figsize=(15, 6))\n",
    "for i in range(5):\n",
    "\n",
    "    axes[i].imshow(dataset_complex[i], cmap='gray')\n",
    "    axes[i].axis('off')\n",
    "\n",
    "# Add label for the top row\n",
    "plt.suptitle('Complex Images', y=0.75, fontsize=14)\n",
    "\n",
    "plt.tight_layout()\n",
    "plt.show()"
   ]
  },
  {
   "cell_type": "code",
   "execution_count": 237,
   "metadata": {},
   "outputs": [],
   "source": [
    "class ShapeDataset(Dataset):\n",
    "    def __init__(self, dataset, labels, num_classes):\n",
    "        self.data = dataset\n",
    "        self.labels = labels\n",
    "        self.num_classes = num_classes\n",
    "        self.num_samples = dataset.shape[0]\n",
    "\n",
    "    def __len__(self):\n",
    "        return self.num_samples\n",
    "\n",
    "    def __getitem__(self, index):\n",
    "        return self.data[index], self.labels[index]\n",
    "\n",
    "\n",
    "def prepare_data(dataset, labels, batch_size, num_classes, shuffle=False):\n",
    "\n",
    "    X_train, X_test, y_train, y_test = train_test_split(dataset, labels,\n",
    "                                                        train_size=0.8, test_size=0.2)\n",
    "\n",
    "    train_dataset = ShapeDataset(\n",
    "        dataset=X_train, labels=y_train, num_classes=num_classes)\n",
    "    train_loader = DataLoader(\n",
    "        dataset=train_dataset, batch_size=batch_size, shuffle=shuffle)\n",
    "\n",
    "    test_dataset = ShapeDataset(\n",
    "        dataset=X_test, labels=y_test, num_classes=num_classes)\n",
    "    test_loader = DataLoader(\n",
    "        dataset=test_dataset, batch_size=batch_size, shuffle=shuffle)\n",
    "\n",
    "    return train_loader, test_loader\n",
    "\n",
    "num_classes = 6\n",
    "batch_size = 32\n",
    "\n",
    "train_loader_basic, test_loader_basic = prepare_data(\n",
    "    dataset=dataset_basic, labels=labels_basic, batch_size=batch_size, num_classes=num_classes, shuffle=False)\n",
    "\n",
    "train_loader_complex, test_loader_complex = prepare_data(\n",
    "    dataset=dataset_complex, labels=labels_complex, batch_size=batch_size, num_classes=num_classes, shuffle=False)\n",
    "\n",
    "train_loader_combined, test_loader_combined = prepare_data(\n",
    "    dataset=dataset_combined, labels=labels_combined, batch_size=batch_size, num_classes=num_classes, shuffle=True)"
   ]
  },
  {
   "cell_type": "code",
   "execution_count": 238,
   "metadata": {},
   "outputs": [],
   "source": [
    "from torch.nn.functional import tanh, softmax\n",
    "\n",
    "class FeedForward(nn.Module):\n",
    "    def __init__(self, input_size, hidden_size, output_size):\n",
    "        super().__init__()\n",
    "        self.layer1 = nn.Linear(input_size, hidden_size)\n",
    "        self.layer2 = nn.Linear(hidden_size, hidden_size)\n",
    "        self.layer3 = nn.Linear(hidden_size, output_size)\n",
    "\n",
    "    def forward(self, x):\n",
    "        x = tanh(self.layer1(x))\n",
    "        x = tanh(self.layer2(x))\n",
    "        x = softmax(self.layer3(x), dim=-1, dtype=torch.float32)\n",
    "        return x\n",
    "\n",
    "def train_model(model, loader, loss_fn, optimizer, num_epochs=100, verbose=False):\n",
    "    best_acc = float('-inf')\n",
    "    for epoch in range(num_epochs):\n",
    "        total, num_correct = 0, 0\n",
    "        for images, labels in tqdm(loader, desc=f'Epoch {epoch + 1}/{num_epochs}', leave=False):\n",
    "            \n",
    "            images = images.view(images.size(0), -1)  # flatten images\n",
    "            optimizer.zero_grad()\n",
    "            outputs = model(images)\n",
    "            loss = loss_fn(outputs, labels)\n",
    "            loss.backward()\n",
    "            optimizer.step()\n",
    "\n",
    "            # make prediction by choosing most likely outcome\n",
    "            predictions = torch.argmax(outputs, dim=-1)\n",
    "\n",
    "            # keep tabs on accuracy score\n",
    "            num_correct += (predictions == labels).sum().item()\n",
    "            total += labels.shape[0]\n",
    "\n",
    "        acc = num_correct / total\n",
    "        if verbose:\n",
    "            print(f'Epoch {epoch + 1}, Accuracy: {acc}')\n",
    "        \n",
    "        best_acc = acc if acc > best_acc else best_acc\n",
    "\n",
    "    print(f\"Model accuracy after training: {best_acc}\")\n",
    "    return model"
   ]
  },
  {
   "cell_type": "code",
   "execution_count": 239,
   "metadata": {},
   "outputs": [],
   "source": [
    "input_size = image_size * image_size\n",
    "hidden_size = 256\n",
    "output_size = 6\n",
    "\n",
    "model_basic = FeedForward(input_size=input_size,\n",
    "                          hidden_size=hidden_size, output_size=output_size)\n",
    "\n",
    "model_curriculum = FeedForward(input_size=input_size,\n",
    "                          hidden_size=hidden_size, output_size=output_size)\n",
    "\n",
    "model_complex = FeedForward(input_size=input_size,\n",
    "                            hidden_size=hidden_size, output_size=output_size)\n",
    "\n",
    "model_combined = FeedForward(input_size=input_size,\n",
    "                             hidden_size=hidden_size, output_size=output_size)\n",
    "\n",
    "ce_loss = nn.CrossEntropyLoss()\n",
    "optimizer = optim.Adam(model_basic.parameters(), lr=0.001)\n",
    "num_epochs = 100"
   ]
  },
  {
   "cell_type": "code",
   "execution_count": 244,
   "metadata": {},
   "outputs": [
    {
     "name": "stdout",
     "output_type": "stream",
     "text": [
      "Training basic model on basic data...\n"
     ]
    },
    {
     "name": "stderr",
     "output_type": "stream",
     "text": [
      "                                                                 "
     ]
    },
    {
     "name": "stdout",
     "output_type": "stream",
     "text": [
      "Model accuracy after training: 0.786\n",
      "Basic data training complete for basic model!\n"
     ]
    },
    {
     "name": "stderr",
     "output_type": "stream",
     "text": [
      "\r"
     ]
    }
   ],
   "source": [
    "print(\"Training basic model on basic data...\")\n",
    "model_basic = train_model(model=model_basic, loader=train_loader_basic,\n",
    "                          loss_fn=ce_loss, optimizer=optimizer, num_epochs=num_epochs, verbose=False)\n",
    "print(\"Basic data training complete for basic model!\")"
   ]
  },
  {
   "cell_type": "code",
   "execution_count": 245,
   "metadata": {},
   "outputs": [
    {
     "name": "stdout",
     "output_type": "stream",
     "text": [
      "Training curriculum model on basic data...\n"
     ]
    },
    {
     "name": "stderr",
     "output_type": "stream",
     "text": [
      "                                                                \r"
     ]
    },
    {
     "name": "stdout",
     "output_type": "stream",
     "text": [
      "Model accuracy after training: 0.097\n",
      "Basic data training complete for curriculum model!\n",
      "Training curriculum model on complex data...\n"
     ]
    },
    {
     "name": "stderr",
     "output_type": "stream",
     "text": [
      "                                                                "
     ]
    },
    {
     "name": "stdout",
     "output_type": "stream",
     "text": [
      "Model accuracy after training: 0.1965\n",
      "Complex data training complete for curriculum model!\n"
     ]
    },
    {
     "name": "stderr",
     "output_type": "stream",
     "text": [
      "\r"
     ]
    }
   ],
   "source": [
    "# train the curriculum model on the basic dataset first, then the complex one\n",
    "print(\"Training curriculum model on basic data...\")\n",
    "\n",
    "model_curriculum = train_model(model=model_curriculum, loader=train_loader_basic,\n",
    "                               loss_fn=ce_loss, optimizer=optimizer, num_epochs=num_epochs, verbose=False)\n",
    "\n",
    "print(\"Basic data training complete for curriculum model!\")\n",
    "\n",
    "print(\"Training curriculum model on complex data...\")\n",
    "model_curriculum = train_model(model=model_curriculum, loader=train_loader_complex,\n",
    "                               loss_fn=ce_loss, optimizer=optimizer, num_epochs=num_epochs, verbose=False)\n",
    "\n",
    "print(\"Complex data training complete for curriculum model!\")"
   ]
  },
  {
   "cell_type": "code",
   "execution_count": 228,
   "metadata": {},
   "outputs": [
    {
     "name": "stdout",
     "output_type": "stream",
     "text": [
      "Training complex model on complex data...\n"
     ]
    },
    {
     "name": "stderr",
     "output_type": "stream",
     "text": [
      "                                                                 "
     ]
    },
    {
     "name": "stdout",
     "output_type": "stream",
     "text": [
      "Model accuracy after training: 0.16\n",
      "Complex data training complete for complex model!\n"
     ]
    },
    {
     "name": "stderr",
     "output_type": "stream",
     "text": [
      "\r"
     ]
    }
   ],
   "source": [
    "print(\"Training complex model on complex data...\")\n",
    "\n",
    "model_complex = train_model(model=model_complex, loader=train_loader_complex,\n",
    "                         loss_fn=ce_loss, optimizer=optimizer, num_epochs=num_epochs, verbose=False)\n",
    "\n",
    "print(\"Complex data training complete for complex model!\")"
   ]
  },
  {
   "cell_type": "code",
   "execution_count": 229,
   "metadata": {},
   "outputs": [
    {
     "name": "stdout",
     "output_type": "stream",
     "text": [
      "Training combined model on all data...\n"
     ]
    },
    {
     "name": "stderr",
     "output_type": "stream",
     "text": [
      "                                                                 "
     ]
    },
    {
     "name": "stdout",
     "output_type": "stream",
     "text": [
      "Model accuracy after training: 0.164375\n",
      "Combined data training complete on combined model!\n"
     ]
    },
    {
     "name": "stderr",
     "output_type": "stream",
     "text": [
      "\r"
     ]
    }
   ],
   "source": [
    "print(\"Training combined model on all data...\")\n",
    "\n",
    "model_combined = train_model(model=model_combined, loader=train_loader_combined,\n",
    "                             loss_fn=ce_loss, optimizer=optimizer, num_epochs=num_epochs, verbose=False)\n",
    "\n",
    "print(\"Combined data training complete on combined model!\")"
   ]
  },
  {
   "cell_type": "code",
   "execution_count": 231,
   "metadata": {},
   "outputs": [
    {
     "name": "stdout",
     "output_type": "stream",
     "text": [
      "basic test accuracy: 0.184\n",
      "curriculum test accuracy: 0.156\n",
      "complex test accuracy: 0.173\n",
      "combined test accuracy: 0.1625\n"
     ]
    }
   ],
   "source": [
    "def test_model(model, loader, model_type='basic'):\n",
    "\n",
    "    total, num_correct = 0, 0\n",
    "    with torch.no_grad():\n",
    "        for images, labels in loader:\n",
    "            images = images.view(images.size(0), -1)  # flatten images\n",
    "            outputs = model(images)\n",
    "            predictions = torch.argmax(outputs, dim=-1)\n",
    "            num_correct += (predictions == labels).sum().item()\n",
    "            total += labels.shape[0]\n",
    "    acc = num_correct/total\n",
    "    print(f\"{model_type} test accuracy: {num_correct/total}\")\n",
    "    return acc\n",
    "\n",
    "# base model performance on combined data\n",
    "basic_test_acc = test_model(model=model_basic, loader=test_loader_combined, model_type='basic')\n",
    "curriculum_test_acc = test_model(model=model_curriculum, loader=test_loader_combined, model_type='curriculum')\n",
    "complex_test_acc = test_model(model=model_complex, loader=test_loader_combined, model_type='complex')\n",
    "combined_test_acc = test_model(model=model_combined, loader=test_loader_combined, model_type='combined')"
   ]
  }
 ],
 "metadata": {
  "kernelspec": {
   "display_name": "Python 3",
   "language": "python",
   "name": "python3"
  },
  "language_info": {
   "codemirror_mode": {
    "name": "ipython",
    "version": 3
   },
   "file_extension": ".py",
   "mimetype": "text/x-python",
   "name": "python",
   "nbconvert_exporter": "python",
   "pygments_lexer": "ipython3",
   "version": "3.11.5"
  }
 },
 "nbformat": 4,
 "nbformat_minor": 2
}

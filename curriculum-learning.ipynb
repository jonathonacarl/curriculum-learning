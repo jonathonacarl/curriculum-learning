{
 "cells": [
  {
   "cell_type": "code",
   "execution_count": 327,
   "metadata": {},
   "outputs": [],
   "source": [
    "import cv2\n",
    "import numpy as np\n",
    "import matplotlib.pyplot as plt\n",
    "import torch\n",
    "from torch import tensor, nn, optim\n",
    "from torch.utils.data import Dataset, DataLoader\n",
    "from sklearn.model_selection import train_test_split\n",
    "from tqdm import tqdm\n",
    "torch.manual_seed(0)\n",
    "\n",
    "# labels for multi-class classification task\n",
    "CIRCLE = 0\n",
    "EQ_TRIANGLE = 1\n",
    "SQUARE = 2\n",
    "ELLIPSE = 3\n",
    "RECTANGLE = 4\n",
    "NON_EQ_TRIANGLE = 5"
   ]
  },
  {
   "cell_type": "code",
   "execution_count": 328,
   "metadata": {},
   "outputs": [],
   "source": [
    "def shape_label(shape_type):\n",
    "    \"\"\"\n",
    "    \"\"\"    \n",
    "    if shape_type == 'circle':\n",
    "        shape_type = CIRCLE\n",
    "    elif shape_type == 'ellipse':\n",
    "        shape_type = ELLIPSE\n",
    "    elif shape_type == 'square':\n",
    "        shape_type = SQUARE\n",
    "    elif shape_type == 'rectangle':\n",
    "        shape_type = RECTANGLE\n",
    "    elif shape_type == 'eq_triangle':\n",
    "        shape_type = EQ_TRIANGLE\n",
    "    else:\n",
    "        shape_type = NON_EQ_TRIANGLE\n",
    "    \n",
    "    return shape_type\n",
    "\n",
    "def generate_eq_triangle(image_size):\n",
    "\n",
    "    triangle_height = np.random.randint(image_size // 4, image_size // 2)\n",
    "    x1 = np.random.randint(0, image_size - triangle_height)\n",
    "    y1 = np.random.randint(0, image_size - triangle_height)\n",
    "    x2 = x1 + triangle_height\n",
    "    y2 = y1\n",
    "    x3 = x1 + (triangle_height // 2)\n",
    "    y3 = y1 + triangle_height\n",
    "    pts = np.array([[x1, y1], [x2, y2], [x3, y3]], np.int32)\n",
    "    return pts\n",
    "    \n",
    "\n",
    "def generate_non_eq_triangle(image_size):\n",
    "    side_a = np.random.randint(image_size // 4, image_size // 2)\n",
    "    side_b = np.random.randint(image_size // 4, image_size // 2)\n",
    "    side_c = np.random.randint(image_size // 4, image_size // 2)\n",
    "\n",
    "    while not (side_a + side_b > side_c and side_b + side_c > side_a and side_a + side_c > side_b):\n",
    "        side_a = np.random.randint(image_size // 4, image_size // 2)\n",
    "        side_b = np.random.randint(image_size // 4, image_size // 2)\n",
    "        side_c = np.random.randint(image_size // 4, image_size // 2)\n",
    "\n",
    "    while side_a == side_b or side_b == side_c or side_a == side_c:\n",
    "        side_a = np.random.randint(image_size // 4, image_size // 2)\n",
    "        side_b = np.random.randint(image_size // 4, image_size // 2)\n",
    "        side_c = np.random.randint(image_size // 4, image_size // 2)\n",
    "\n",
    "    x1 = np.random.randint(0, image_size - side_a - 1)\n",
    "    y1 = np.random.randint(0, image_size - side_b - 1)\n",
    "    x2 = x1 + side_a\n",
    "    y2 = y1\n",
    "    x3 = np.random.randint(x1 + side_b, x1 + side_a + side_c)\n",
    "    y3 = y1 + side_b\n",
    "\n",
    "    pts = np.array([[x1, y1], [x2, y2], [x3, y3]], np.int32)\n",
    "\n",
    "    return pts\n",
    "\n",
    "\n",
    "def generate_shape(image_size, complex=False):\n",
    "\n",
    "    # add more complicated shapes for complex dataset\n",
    "    shape_type = np.random.choice(\n",
    "        ['rectangle', 'ellipse', 'non_eq_triangle']) if complex else np.random.choice(['square', 'circle', 'eq_triangle'])\n",
    "    image = np.zeros((image_size, image_size), dtype=np.uint8)\n",
    "\n",
    "    if shape_type == 'square':\n",
    "        side_length = np.random.randint(image_size // 4, image_size // 2)\n",
    "        x = np.random.randint(0, image_size - side_length)\n",
    "        y = np.random.randint(0, image_size - side_length)\n",
    "        image[y:y+side_length, x:x+side_length] = 255\n",
    "\n",
    "    elif shape_type == 'circle':\n",
    "        radius = np.random.randint(image_size // 8, image_size // 4)\n",
    "        center_x = np.random.randint(radius, image_size - radius)\n",
    "        center_y = np.random.randint(radius, image_size - radius)\n",
    "        cv2.circle(image, (center_x, center_y), radius, 255, -1)\n",
    "\n",
    "    elif shape_type == 'rectangle':\n",
    "        width = np.random.randint(image_size // 4, image_size // 2)\n",
    "        height = np.random.randint(image_size // 4, image_size // 2)\n",
    "        x = np.random.randint(0, image_size - width)\n",
    "        y = np.random.randint(0, image_size - height)\n",
    "        image[y:y+height, x:x+width] = 255\n",
    "\n",
    "    elif shape_type == 'ellipse':\n",
    "        major_axis = np.random.randint(image_size // 4, image_size // 2)\n",
    "        minor_axis = np.random.randint(image_size // 4, image_size // 2)\n",
    "        center_x = np.random.randint(major_axis, image_size - major_axis)\n",
    "        center_y = np.random.randint(minor_axis, image_size - minor_axis)\n",
    "        cv2.ellipse(image, (center_x, center_y),\n",
    "                    (major_axis, minor_axis), 0, 0, 360, 255, -1)\n",
    "\n",
    "    elif shape_type == 'eq_triangle':\n",
    "        pts = generate_eq_triangle(image_size)\n",
    "        cv2.fillPoly(image, [pts], 255)\n",
    "\n",
    "    elif shape_type == 'non_eq_triangle':\n",
    "        pts = generate_non_eq_triangle(image_size)\n",
    "        cv2.fillPoly(image, [pts], 255)\n",
    "\n",
    "    return image.astype(np.float32), shape_type"
   ]
  },
  {
   "cell_type": "code",
   "execution_count": 329,
   "metadata": {},
   "outputs": [],
   "source": [
    "def generate_shape_dataset(num_examples, image_size, complex=False):\n",
    "\n",
    "    dataset, labels = [], []\n",
    "    for _ in range(num_examples):\n",
    "        shape_image, shape_type = generate_shape(image_size, complex=complex)\n",
    "        shape_type = shape_label(shape_type)\n",
    "        dataset.append(shape_image)\n",
    "        labels.append(shape_type)\n",
    "\n",
    "    return tensor(dataset, dtype=torch.float32), tensor(labels, dtype=torch.long)\n",
    "\n",
    "# example distribution: 10000 train, 5000 validation, 5000 test\n",
    "dataset_size = 20000\n",
    "image_size = 32\n",
    "\n",
    "dataset_basic, labels_basic = generate_shape_dataset(\n",
    "    num_examples=dataset_size, image_size=image_size, complex=False)\n",
    "dataset_complex, labels_complex = generate_shape_dataset(\n",
    "    num_examples=dataset_size, image_size=image_size, complex=True)\n",
    "\n",
    "# we only want total number of examples to be 20000; ensure distribution of basic and complex examples is 50-50\n",
    "dataset_combined = torch.cat((dataset_basic[:dataset_size//2], dataset_complex[:dataset_size//2]), dim=0)\n",
    "labels_combined = torch.cat((labels_basic[:dataset_size//2], labels_complex[:dataset_size//2]), dim=0)"
   ]
  },
  {
   "cell_type": "code",
   "execution_count": 330,
   "metadata": {},
   "outputs": [
    {
     "data": {
      "image/png": "[encoded data removed]",
      "text/plain": [
       "<Figure size 1500x600 with 5 Axes>"
      ]
     },
     "metadata": {},
     "output_type": "display_data"
    }
   ],
   "source": [
    "# visualize a few examples\n",
    "fig, axes = plt.subplots(1, 5, figsize=(15, 6))\n",
    "for i in range(5):\n",
    "\n",
    "    axes[i].imshow(dataset_basic[i], cmap='gray')\n",
    "    axes[i].axis('off')\n",
    "\n",
    "plt.suptitle('Basic Images', y=0.75, fontsize=14)\n",
    "\n",
    "plt.tight_layout()\n",
    "plt.show()"
   ]
  },
  {
   "cell_type": "code",
   "execution_count": 331,
   "metadata": {},
   "outputs": [
    {
     "data": {
      "image/png": "[encoded data removed]",
      "text/plain": [
       "<Figure size 1500x600 with 5 Axes>"
      ]
     },
     "metadata": {},
     "output_type": "display_data"
    }
   ],
   "source": [
    "fig, axes = plt.subplots(1, 5, figsize=(15, 6))\n",
    "for i in range(5):\n",
    "\n",
    "    axes[i].imshow(dataset_complex[i], cmap='gray')\n",
    "    axes[i].axis('off')\n",
    "\n",
    "plt.suptitle('Complex Images', y=0.75, fontsize=14)\n",
    "\n",
    "plt.tight_layout()\n",
    "plt.show()"
   ]
  },
  {
   "cell_type": "code",
   "execution_count": 332,
   "metadata": {},
   "outputs": [],
   "source": [
    "class ShapeDataset(Dataset):\n",
    "    def __init__(self, dataset, labels, num_classes):\n",
    "        self.data = dataset\n",
    "        self.labels = labels\n",
    "        self.num_classes = num_classes\n",
    "        self.num_samples = dataset.shape[0]\n",
    "\n",
    "    def __len__(self):\n",
    "        return self.num_samples\n",
    "\n",
    "    def __getitem__(self, index):\n",
    "        return self.data[index], self.labels[index]\n",
    "\n",
    "\n",
    "def prepare_data(dataset, labels, batch_size, num_classes, shuffle=False):\n",
    "\n",
    "    X_train, X_test, y_train, y_test = train_test_split(dataset, labels,\n",
    "                                                        train_size=0.5, test_size=0.5)\n",
    "    X_val, X_test, y_val, y_test = train_test_split(X_test, y_test,\n",
    "                                                    train_size=0.5, test_size=0.5)\n",
    "\n",
    "    train_dataset = ShapeDataset(\n",
    "        dataset=X_train, labels=y_train, num_classes=num_classes)\n",
    "    train_loader = DataLoader(\n",
    "        dataset=train_dataset, batch_size=batch_size, shuffle=shuffle)\n",
    "\n",
    "    val_dataset = ShapeDataset(\n",
    "        dataset=X_val, labels=y_val, num_classes=num_classes)\n",
    "    val_loader = DataLoader(\n",
    "        dataset=val_dataset, batch_size=batch_size, shuffle=shuffle)\n",
    "\n",
    "    test_dataset = ShapeDataset(\n",
    "        dataset=X_test, labels=y_test, num_classes=num_classes)\n",
    "    test_loader = DataLoader(\n",
    "        dataset=test_dataset, batch_size=batch_size, shuffle=shuffle)\n",
    "\n",
    "    return train_loader, val_loader, test_loader\n",
    "\n",
    "num_classes = 6\n",
    "batch_size = 100\n",
    "\n",
    "train_loader_basic, val_loader_basic, test_loader_basic = prepare_data(\n",
    "    dataset=dataset_basic, labels=labels_basic, batch_size=batch_size, num_classes=num_classes, shuffle=False)\n",
    "\n",
    "train_loader_complex, val_loader_complex, test_loader_complex = prepare_data(\n",
    "    dataset=dataset_complex, labels=labels_complex, batch_size=batch_size, num_classes=num_classes, shuffle=False)\n",
    "\n",
    "train_loader_combined, val_loader_combined, test_loader_combined = prepare_data(\n",
    "    dataset=dataset_combined, labels=labels_combined, batch_size=batch_size, num_classes=num_classes, shuffle=True)"
   ]
  },
  {
   "cell_type": "code",
   "execution_count": 362,
   "metadata": {},
   "outputs": [],
   "source": [
    "from torch.nn.functional import tanh, softmax\n",
    "\n",
    "class FeedForward(nn.Module):\n",
    "    def __init__(self, input_size, hidden_size, output_size):\n",
    "        super().__init__()\n",
    "        self.layer1 = nn.Linear(input_size, hidden_size)\n",
    "        self.layer2 = nn.Linear(hidden_size, hidden_size)\n",
    "        self.layer3 = nn.Linear(hidden_size, output_size)\n",
    "\n",
    "    def forward(self, x):\n",
    "        x = tanh(self.layer1(x))\n",
    "        x = tanh(self.layer2(x))\n",
    "        x = softmax(self.layer3(x), dim=-1, dtype=torch.float32)\n",
    "        return x\n",
    "\n",
    "def train_epoch(model, loader, loss_fn, optimizer, epoch, num_epochs=256):\n",
    "\n",
    "    model.train()\n",
    "    total, num_correct = 0, 0\n",
    "    for images, labels in tqdm(loader, desc=f'Epoch {epoch + 1}/{num_epochs}', leave=False):\n",
    "        \n",
    "        images = images.view(images.size(0), -1)  # flatten images\n",
    "        \n",
    "        optimizer.zero_grad()\n",
    "        outputs = model(images)\n",
    "        loss = loss_fn(outputs, labels)\n",
    "        loss.backward()\n",
    "        optimizer.step()\n",
    "        \n",
    "        # make prediction by choosing most likely outcome\n",
    "        predictions = torch.argmax(outputs, dim=-1)\n",
    "\n",
    "        # keep tabs on accuracy score\n",
    "        num_correct += (predictions == labels).sum().item()\n",
    "        total += labels.shape[0]\n",
    "\n",
    "    return num_correct / total\n",
    "\n",
    "def train_model(model, loader, loss_fn, optimizer, num_epochs=256, verbose=False, tol=1-(1e-6), val_loader=None, switch_loader=None, switch_epoch=None, model_type='basic'):\n",
    "    best_acc = float('-inf')\n",
    "    switched = False\n",
    "    for epoch in range(num_epochs):\n",
    "\n",
    "        if switch_epoch is not None and epoch >= switch_epoch:\n",
    "            if not switched:\n",
    "                switched = True\n",
    "                print(\"Curriculum training on basic data complete. Now training curriculum model on complex data...\")\n",
    "            train_acc = train_epoch(model, switch_loader, loss_fn, optimizer, epoch, num_epochs)\n",
    "        else:\n",
    "            train_acc = train_epoch(model, loader, loss_fn, optimizer, epoch, num_epochs)\n",
    "    \n",
    "        if verbose:\n",
    "            print(f'Epoch {epoch + 1}, Training Accuracy: {train_acc}')\n",
    "        \n",
    "        val_acc = eval_model(model, val_loader, model_type=model_type, data_type='validation')\n",
    "        best_acc = val_acc if val_acc > best_acc else best_acc\n",
    "\n",
    "        # early exit based on validation accuracy\n",
    "        if best_acc > tol:\n",
    "            break\n",
    "\n",
    "    print(f\"Model validation accuracy after training: {best_acc}\")\n",
    "    return model, best_acc\n",
    "\n",
    "\n",
    "def eval_model(model, loader, model_type='basic', data_type='test', verbose=False):\n",
    "    model.eval()\n",
    "    total, num_correct = 0, 0\n",
    "    with torch.no_grad():\n",
    "        for images, labels in loader:\n",
    "            images = images.view(images.size(0), -1)  # flatten images\n",
    "            outputs = model(images)\n",
    "            predictions = torch.argmax(outputs, dim=-1)\n",
    "            num_correct += (predictions == labels).sum().item()\n",
    "            total += labels.shape[0]\n",
    "    acc = num_correct/total\n",
    "    if verbose:\n",
    "        print(f\"{model_type} {data_type} accuracy: {num_correct/total}\")\n",
    "    return acc"
   ]
  },
  {
   "cell_type": "code",
   "execution_count": 349,
   "metadata": {},
   "outputs": [],
   "source": [
    "def grid_search(param_grid, loader, input_size, output_size=6, val_loader=None):\n",
    "\n",
    "    best_params = None\n",
    "    best_acc = float('-inf')\n",
    "\n",
    "    for hidden_size in param_grid['hidden_sizes']:\n",
    "        for learning_rate in param_grid['learning_rates']:\n",
    "            print(\n",
    "                f'Training with learning rate={learning_rate} and hidden size={hidden_size}')\n",
    "            model = FeedForward(input_size=input_size, hidden_size=hidden_size, output_size=output_size)\n",
    "            optimizer = optim.Adam(model.parameters(), lr=learning_rate)\n",
    "            criterion = nn.CrossEntropyLoss()\n",
    "            model, _ = train_model(model, loader, criterion, optimizer, val_loader=val_loader, model_type='complex')\n",
    "\n",
    "            val_acc = eval_model(model, val_loader, model_type='complex', data_type='validation')\n",
    "            if val_acc > best_acc:\n",
    "                best_acc = val_acc\n",
    "                best_params = {'hidden_size' : hidden_size, 'learning_rate' : learning_rate}\n",
    "    \n",
    "    return best_params, best_acc"
   ]
  },
  {
   "cell_type": "code",
   "execution_count": 350,
   "metadata": {},
   "outputs": [
    {
     "name": "stdout",
     "output_type": "stream",
     "text": [
      "Training with learning rate=0.001 and hidden size=32\n"
     ]
    },
    {
     "name": "stderr",
     "output_type": "stream",
     "text": [
      "                                                                \r"
     ]
    },
    {
     "name": "stdout",
     "output_type": "stream",
     "text": [
      "Model accuracy after training: 0.9402\n",
      "Training with learning rate=0.01 and hidden size=32\n"
     ]
    },
    {
     "name": "stderr",
     "output_type": "stream",
     "text": [
      "                                                                \r"
     ]
    },
    {
     "name": "stdout",
     "output_type": "stream",
     "text": [
      "Model accuracy after training: 0.8154\n",
      "Training with learning rate=0.1 and hidden size=32\n"
     ]
    },
    {
     "name": "stderr",
     "output_type": "stream",
     "text": [
      "                                                                \r"
     ]
    },
    {
     "name": "stdout",
     "output_type": "stream",
     "text": [
      "Model accuracy after training: 0.742\n",
      "Training with learning rate=0.001 and hidden size=64\n"
     ]
    },
    {
     "name": "stderr",
     "output_type": "stream",
     "text": [
      "                                                                \r"
     ]
    },
    {
     "name": "stdout",
     "output_type": "stream",
     "text": [
      "Model accuracy after training: 0.9698\n",
      "Training with learning rate=0.01 and hidden size=64\n"
     ]
    },
    {
     "name": "stderr",
     "output_type": "stream",
     "text": [
      "                                                                 \r"
     ]
    },
    {
     "name": "stdout",
     "output_type": "stream",
     "text": [
      "Model accuracy after training: 0.8488\n",
      "Training with learning rate=0.1 and hidden size=64\n"
     ]
    },
    {
     "name": "stderr",
     "output_type": "stream",
     "text": [
      "                                                                \r"
     ]
    },
    {
     "name": "stdout",
     "output_type": "stream",
     "text": [
      "Model accuracy after training: 0.337\n",
      "Training with learning rate=0.001 and hidden size=128\n"
     ]
    },
    {
     "name": "stderr",
     "output_type": "stream",
     "text": [
      "                                                                 \r"
     ]
    },
    {
     "name": "stdout",
     "output_type": "stream",
     "text": [
      "Model accuracy after training: 0.9776\n",
      "Training with learning rate=0.01 and hidden size=128\n"
     ]
    },
    {
     "name": "stderr",
     "output_type": "stream",
     "text": [
      "                                                                 \r"
     ]
    },
    {
     "name": "stdout",
     "output_type": "stream",
     "text": [
      "Model accuracy after training: 0.9218\n",
      "Training with learning rate=0.1 and hidden size=128\n"
     ]
    },
    {
     "name": "stderr",
     "output_type": "stream",
     "text": [
      "                                                                \r"
     ]
    },
    {
     "name": "stdout",
     "output_type": "stream",
     "text": [
      "Model accuracy after training: 0.337\n",
      "Training with learning rate=0.001 and hidden size=256\n"
     ]
    },
    {
     "name": "stderr",
     "output_type": "stream",
     "text": [
      "                                                                 \r"
     ]
    },
    {
     "name": "stdout",
     "output_type": "stream",
     "text": [
      "Model accuracy after training: 0.9792\n",
      "Training with learning rate=0.01 and hidden size=256\n"
     ]
    },
    {
     "name": "stderr",
     "output_type": "stream",
     "text": [
      "                                                                 \r"
     ]
    },
    {
     "name": "stdout",
     "output_type": "stream",
     "text": [
      "Model accuracy after training: 0.9312\n",
      "Training with learning rate=0.1 and hidden size=256\n"
     ]
    },
    {
     "name": "stderr",
     "output_type": "stream",
     "text": [
      "                                                                 \r"
     ]
    },
    {
     "name": "stdout",
     "output_type": "stream",
     "text": [
      "Model accuracy after training: 0.3248\n",
      "Optimal hyperparameters selected by maximizing complex validation accuracy.\n",
      "Hidden layer size: 128\n",
      "Learning rate: 0.001\n"
     ]
    }
   ],
   "source": [
    "input_size = image_size * image_size\n",
    "output_size = 6\n",
    "\n",
    "# Hyperparameters to tune\n",
    "param_grid = {\n",
    "    'hidden_sizes': [32, 64, 128, 256],\n",
    "    'learning_rates' : [0.001, 0.01, 0.1]\n",
    "}\n",
    "\n",
    "best_params, best_acc = grid_search(param_grid, train_loader_complex, input_size=input_size, val_loader=val_loader_complex)"
   ]
  },
  {
   "cell_type": "code",
   "execution_count": 312,
   "metadata": {},
   "outputs": [],
   "source": [
    "hidden_size = best_params['hidden_size']\n",
    "learning_rate = best_params['learning_rate']\n",
    "ce_loss = nn.CrossEntropyLoss()\n",
    "num_epochs = 256\n",
    "\n",
    "print(\"Optimal hyperparameters selected by maximizing complex validation accuracy.\")\n",
    "print(f\"Hidden layer size: {hidden_size}\")\n",
    "print(f\"Learning rate: {learning_rate}\")"
   ]
  },
  {
   "cell_type": "code",
   "execution_count": 351,
   "metadata": {},
   "outputs": [
    {
     "name": "stdout",
     "output_type": "stream",
     "text": [
      "Training basic model on basic data...\n"
     ]
    },
    {
     "name": "stderr",
     "output_type": "stream",
     "text": [
      "                                                                 \r"
     ]
    },
    {
     "name": "stdout",
     "output_type": "stream",
     "text": [
      "Model accuracy after training: 0.7888\n",
      "Basic data training complete for basic model!\n"
     ]
    }
   ],
   "source": [
    "model_basic = FeedForward(input_size=input_size,\n",
    "                          hidden_size=hidden_size, output_size=output_size)\n",
    "\n",
    "optimizer_basic = optim.Adam(model_basic.parameters(), lr=learning_rate)\n",
    "\n",
    "print(\"Training basic model on basic data...\")\n",
    "model_basic, _ = train_model(model=model_basic, loader=train_loader_basic,\n",
    "                          loss_fn=ce_loss, optimizer=optimizer_basic, num_epochs=num_epochs,\n",
    "                          verbose=False, val_loader=val_loader_basic)\n",
    "print(\"Basic data training complete for basic model!\")"
   ]
  },
  {
   "cell_type": "code",
   "execution_count": 364,
   "metadata": {},
   "outputs": [
    {
     "name": "stdout",
     "output_type": "stream",
     "text": [
      "Training curriculum models...\n",
      "Training curriculum model at switch epoch=0\n",
      "Curriculum training on basic data complete. Now training curriculum model on complex data...\n"
     ]
    },
    {
     "name": "stderr",
     "output_type": "stream",
     "text": [
      "                                                                \r"
     ]
    },
    {
     "name": "stdout",
     "output_type": "stream",
     "text": [
      "Model validation accuracy after training: 0.9776\n",
      "Validation accuracy of model at switch epoch 0: 0.9776\n",
      "Training curriculum model at switch epoch=2\n"
     ]
    },
    {
     "name": "stderr",
     "output_type": "stream",
     "text": [
      "                                                               \r"
     ]
    },
    {
     "name": "stdout",
     "output_type": "stream",
     "text": [
      "Curriculum training on basic data complete. Now training curriculum model on complex data...\n"
     ]
    },
    {
     "name": "stderr",
     "output_type": "stream",
     "text": [
      "                                                                 \r"
     ]
    },
    {
     "name": "stdout",
     "output_type": "stream",
     "text": [
      "Model validation accuracy after training: 0.9826\n",
      "Validation accuracy of model at switch epoch 2: 0.9826\n",
      "Training curriculum model at switch epoch=4\n"
     ]
    },
    {
     "name": "stderr",
     "output_type": "stream",
     "text": [
      "                                                              \r"
     ]
    },
    {
     "name": "stdout",
     "output_type": "stream",
     "text": [
      "Curriculum training on basic data complete. Now training curriculum model on complex data...\n"
     ]
    },
    {
     "name": "stderr",
     "output_type": "stream",
     "text": [
      "                                                                 \r"
     ]
    },
    {
     "name": "stdout",
     "output_type": "stream",
     "text": [
      "Model validation accuracy after training: 0.9796\n",
      "Validation accuracy of model at switch epoch 4: 0.9796\n",
      "Training curriculum model at switch epoch=8\n"
     ]
    },
    {
     "name": "stderr",
     "output_type": "stream",
     "text": [
      "                                                              \r"
     ]
    },
    {
     "name": "stdout",
     "output_type": "stream",
     "text": [
      "Curriculum training on basic data complete. Now training curriculum model on complex data...\n"
     ]
    },
    {
     "name": "stderr",
     "output_type": "stream",
     "text": [
      "                                                                 \r"
     ]
    },
    {
     "name": "stdout",
     "output_type": "stream",
     "text": [
      "Model validation accuracy after training: 0.978\n",
      "Validation accuracy of model at switch epoch 8: 0.978\n",
      "Training curriculum model at switch epoch=16\n"
     ]
    },
    {
     "name": "stderr",
     "output_type": "stream",
     "text": [
      "                                                               \r"
     ]
    },
    {
     "name": "stdout",
     "output_type": "stream",
     "text": [
      "Curriculum training on basic data complete. Now training curriculum model on complex data...\n"
     ]
    },
    {
     "name": "stderr",
     "output_type": "stream",
     "text": [
      "                                                                 \r"
     ]
    },
    {
     "name": "stdout",
     "output_type": "stream",
     "text": [
      "Model validation accuracy after training: 0.9752\n",
      "Validation accuracy of model at switch epoch 16: 0.9752\n",
      "Training curriculum model at switch epoch=32\n"
     ]
    },
    {
     "name": "stderr",
     "output_type": "stream",
     "text": [
      "                                                               \r"
     ]
    },
    {
     "name": "stdout",
     "output_type": "stream",
     "text": [
      "Curriculum training on basic data complete. Now training curriculum model on complex data...\n"
     ]
    },
    {
     "name": "stderr",
     "output_type": "stream",
     "text": [
      "                                                                  \r"
     ]
    },
    {
     "name": "stdout",
     "output_type": "stream",
     "text": [
      "Model validation accuracy after training: 0.9738\n",
      "Validation accuracy of model at switch epoch 32: 0.9738\n",
      "Training curriculum model at switch epoch=64\n"
     ]
    },
    {
     "name": "stderr",
     "output_type": "stream",
     "text": [
      "                                                                \r"
     ]
    },
    {
     "name": "stdout",
     "output_type": "stream",
     "text": [
      "Curriculum training on basic data complete. Now training curriculum model on complex data...\n"
     ]
    },
    {
     "name": "stderr",
     "output_type": "stream",
     "text": [
      "                                                                 \r"
     ]
    },
    {
     "name": "stdout",
     "output_type": "stream",
     "text": [
      "Model validation accuracy after training: 0.9772\n",
      "Validation accuracy of model at switch epoch 64: 0.9772\n",
      "Training curriculum model at switch epoch=128\n"
     ]
    },
    {
     "name": "stderr",
     "output_type": "stream",
     "text": [
      "                                                                 \r"
     ]
    },
    {
     "name": "stdout",
     "output_type": "stream",
     "text": [
      "Curriculum training on basic data complete. Now training curriculum model on complex data...\n"
     ]
    },
    {
     "name": "stderr",
     "output_type": "stream",
     "text": [
      "                                                                 \r"
     ]
    },
    {
     "name": "stdout",
     "output_type": "stream",
     "text": [
      "Model validation accuracy after training: 0.9704\n",
      "Validation accuracy of model at switch epoch 128: 0.9704\n",
      "All curriculum models completed training!\n"
     ]
    }
   ],
   "source": [
    "model_curriculum = FeedForward(input_size=input_size,\n",
    "                               hidden_size=hidden_size, output_size=output_size)\n",
    "\n",
    "optimizer_curriculum = optim.Adam(\n",
    "    model_curriculum.parameters(), lr=learning_rate)\n",
    "\n",
    "# train the curriculum model on the basic dataset first, then the complex one\n",
    "print(\"Training curriculum models...\")\n",
    "\n",
    "curriculum_models = []\n",
    "currciulum_accs = []\n",
    "for i in range(0, 7 + 1):\n",
    "    switch_epoch = 0 if i == 0 else 2**i\n",
    "    print(f'Training curriculum model at switch epoch={switch_epoch}')\n",
    "    model, acc = train_model(model=model_curriculum, loader=train_loader_basic,\n",
    "                        loss_fn=ce_loss, optimizer=optimizer_curriculum, \n",
    "                        num_epochs=num_epochs, verbose=False, \n",
    "                        switch_loader=train_loader_complex,\n",
    "                        val_loader=val_loader_complex,\n",
    "                        switch_epoch=switch_epoch)\n",
    "    curriculum_models.append(model) # curriculum model at index i is trained at switch_epoch 2 ** i\n",
    "    currciulum_accs.append(acc)\n",
    "\n",
    "    print(f\"Validation accuracy of model at switch epoch {switch_epoch}: {acc}\")\n",
    "\n",
    "print(\"All curriculum models completed training!\")"
   ]
  },
  {
   "cell_type": "code",
   "execution_count": 370,
   "metadata": {},
   "outputs": [
    {
     "data": {
      "image/png": "[encoded data removed]",
      "text/plain": [
       "<Figure size 640x480 with 1 Axes>"
      ]
     },
     "metadata": {},
     "output_type": "display_data"
    }
   ],
   "source": [
    "x_indices = list(range(8))\n",
    "switch_epochs = [0] + [2**i for i in range(1, 8)]\n",
    "plt.plot(x_indices, currciulum_accs, marker='o', linestyle='None')\n",
    "plt.xlabel('Epoch Switch')\n",
    "plt.ylabel('Accuracy')\n",
    "plt.title('Curriculum Model Accuracy vs Epoch Switch')\n",
    "plt.xticks(x_indices, switch_epochs)\n",
    "plt.tight_layout()\n",
    "plt.show()"
   ]
  },
  {
   "cell_type": "code",
   "execution_count": 376,
   "metadata": {},
   "outputs": [
    {
     "name": "stdout",
     "output_type": "stream",
     "text": [
      "Training complex model on complex data...\n"
     ]
    },
    {
     "name": "stderr",
     "output_type": "stream",
     "text": [
      "                                                                 \r"
     ]
    },
    {
     "name": "stdout",
     "output_type": "stream",
     "text": [
      "Model validation accuracy after training: 0.9748\n",
      "Complex data training complete for complex model!\n"
     ]
    }
   ],
   "source": [
    "model_complex = FeedForward(input_size=input_size,\n",
    "                            hidden_size=hidden_size, output_size=output_size)\n",
    "\n",
    "optimizer_complex = optim.Adam(model_complex.parameters(), lr=learning_rate)\n",
    "\n",
    "print(\"Training complex model on complex data...\")\n",
    "\n",
    "model_complex, _ = train_model(model=model_complex, loader=train_loader_complex,\n",
    "                         loss_fn=ce_loss, optimizer=optimizer_complex, num_epochs=num_epochs,\n",
    "                         val_loader=val_loader_complex, verbose=False)\n",
    "\n",
    "print(\"Complex data training complete for complex model!\")"
   ]
  },
  {
   "cell_type": "code",
   "execution_count": 377,
   "metadata": {},
   "outputs": [
    {
     "name": "stdout",
     "output_type": "stream",
     "text": [
      "Training combined model on all data...\n"
     ]
    },
    {
     "name": "stderr",
     "output_type": "stream",
     "text": [
      "                                                                 \r"
     ]
    },
    {
     "name": "stdout",
     "output_type": "stream",
     "text": [
      "Model validation accuracy after training: 0.671\n",
      "Combined data training complete on combined model!\n"
     ]
    }
   ],
   "source": [
    "model_combined = FeedForward(input_size=input_size,\n",
    "                             hidden_size=hidden_size, output_size=output_size)\n",
    "\n",
    "optimizer_combined = optim.Adam(\n",
    "    model_combined.parameters(), lr=learning_rate)\n",
    "\n",
    "print(\"Training combined model on all data...\")\n",
    "\n",
    "model_combined, _ = train_model(model=model_combined, loader=train_loader_combined,\n",
    "                             loss_fn=ce_loss, optimizer=optimizer_combined, num_epochs=num_epochs,\n",
    "                             val_loader=val_loader_combined, verbose=False)\n",
    "\n",
    "print(\"Combined data training complete on combined model!\")"
   ]
  },
  {
   "cell_type": "code",
   "execution_count": 379,
   "metadata": {},
   "outputs": [
    {
     "name": "stdout",
     "output_type": "stream",
     "text": [
      "basic test accuracy: 0.41\n",
      "curriculum test accuracy: 0.488\n",
      "complex test accuracy: 0.4888\n",
      "combined test accuracy: 0.6692\n"
     ]
    }
   ],
   "source": [
    "# base model performance on combined data\n",
    "basic_test_acc = eval_model(model=model_basic, loader=val_loader_combined, model_type='basic', verbose=True)\n",
    "curriculum_test_acc = eval_model(model=model_curriculum, loader=val_loader_combined, model_type='curriculum', verbose=True)\n",
    "complex_test_acc = eval_model(model=model_complex, loader=val_loader_combined, model_type='complex', verbose=True)\n",
    "combined_test_acc = eval_model(model=model_combined, loader=val_loader_combined, model_type='combined', verbose=True)"
   ]
  }
 ],
 "metadata": {
  "kernelspec": {
   "display_name": "Python 3",
   "language": "python",
   "name": "python3"
  },
  "language_info": {
   "codemirror_mode": {
    "name": "ipython",
    "version": 3
   },
   "file_extension": ".py",
   "mimetype": "text/x-python",
   "name": "python",
   "nbconvert_exporter": "python",
   "pygments_lexer": "ipython3",
   "version": "3.11.5"
  }
 },
 "nbformat": 4,
 "nbformat_minor": 2
}
